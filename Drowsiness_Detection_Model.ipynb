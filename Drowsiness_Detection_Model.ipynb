{
  "nbformat": 4,
  "nbformat_minor": 0,
  "metadata": {
    "colab": {
      "name": "Drowsiness-Detection-Model.ipynb",
      "provenance": [],
      "collapsed_sections": [],
      "machine_shape": "hm"
    },
    "kernelspec": {
      "name": "python3",
      "display_name": "Python 3"
    },
    "language_info": {
      "name": "python"
    },
    "accelerator": "GPU",
    "gpuClass": "standard"
  },
  "cells": [
    {
      "cell_type": "code",
      "execution_count": 14,
      "metadata": {
        "id": "VRA104TpPLpQ"
      },
      "outputs": [],
      "source": [
        "import numpy as np\n",
        "import cv2\n",
        "import os\n",
        "import glob as glob\n",
        "import tensorflow as tf\n",
        "import matplotlib.pyplot as plt\n",
        "from tqdm import tqdm as tqdm\n",
        "from sklearn.preprocessing import OneHotEncoder\n",
        "from sklearn.model_selection import train_test_split"
      ]
    },
    {
      "cell_type": "code",
      "source": [
        "def createImagesDataset(img_folder, resize_dim=(64, 64)):\n",
        "    img_data_array = []\n",
        "    class_name = []\n",
        "    for dirl in os.listdir(img_folder):\n",
        "        for file in tqdm(os.listdir(os.path.join(img_folder,dirl))):\n",
        "            if any([file.endswith(x) for x in ['.jpeg', '.jpg']]):\n",
        "                image_path = os.path.join(img_folder, dirl, file)\n",
        "                image = cv2.imread(image_path)\n",
        "                image_bw = cv2.cvtColor(image, cv2.COLOR_BGR2GRAY)\n",
        "                img = cv2.resize(image_bw, resize_dim)\n",
        "                img_data_array.append(img)\n",
        "                class_name.append(dirl)\n",
        "    return img_data_array,class_name\n",
        "\n",
        "data_folder_path = \"/content/drive/MyDrive/Drowsiness-Detection-Analysis/train\"\n",
        "\n",
        "train_image_array, train_class_names = createImagesDataset(data_folder_path, (64, 64))\n"
      ],
      "metadata": {
        "colab": {
          "base_uri": "https://localhost:8080/"
        },
        "id": "b-TyY_ejPlI1",
        "outputId": "fb3bcaa4-48b6-4b40-c9cc-f467f42182cb"
      },
      "execution_count": 3,
      "outputs": [
        {
          "output_type": "stream",
          "name": "stderr",
          "text": [
            "100%|██████████| 616/616 [00:12<00:00, 48.06it/s] \n",
            "100%|██████████| 617/617 [00:13<00:00, 44.83it/s] \n",
            "100%|██████████| 617/617 [00:11<00:00, 53.41it/s] \n",
            "100%|██████████| 617/617 [00:10<00:00, 59.69it/s] \n"
          ]
        }
      ]
    },
    {
      "cell_type": "code",
      "source": [
        "test_data_folder_path = \"/content/drive/MyDrive/Drowsiness-Detection-Analysis/test\"\n",
        "\n",
        "test_image_array, test_class_names = createImagesDataset(test_data_folder_path, (64, 64))"
      ],
      "metadata": {
        "colab": {
          "base_uri": "https://localhost:8080/"
        },
        "id": "9PaYuxnlQo_c",
        "outputId": "35b8b838-5d8f-484d-dcf1-1464ff92ff86"
      },
      "execution_count": 4,
      "outputs": [
        {
          "output_type": "stream",
          "name": "stderr",
          "text": [
            "100%|██████████| 106/106 [00:02<00:00, 36.14it/s]\n",
            "100%|██████████| 109/109 [00:03<00:00, 35.69it/s]\n",
            "100%|██████████| 109/109 [00:03<00:00, 32.43it/s]\n",
            "100%|██████████| 109/109 [00:03<00:00, 31.22it/s]\n"
          ]
        }
      ]
    },
    {
      "cell_type": "code",
      "source": [
        "plot_images = False\n",
        "#neural network takes in a numpy array as the features and labels so convert from list to array and change shape\n",
        "X = ((np.array(train_image_array).reshape(-1, 64, 64))/255.0).astype(\"float32\")\n",
        "y = np.array(train_class_names)\n",
        "\n",
        "if plot_images:\n",
        "    #show first feature image X\n",
        "    first_feature = X[0]\n",
        "    plt.imshow(first_feature, cmap = 'gray')\n",
        "    plt.axis('off')\n",
        "    print('The image shape is {}'.format(first_feature.shape))\n",
        "\n",
        "#neural network takes in a numpy array as the features and labels so convert from list to array and change shape\n",
        "encoder = OneHotEncoder()\n",
        "\n",
        "X_reshaped = np.array(train_image_array).reshape(-1, 64, 64, 1).astype(\"float32\")\n",
        "y_reshaped = encoder.fit_transform(np.array(train_class_names).reshape(-1, 1))\n",
        "\n",
        "#separate training and test data\n",
        "X_train, X_test, y_train, y_test = train_test_split(X_reshaped, y_reshaped, test_size=0.05, random_state=42)\n",
        "print('the shape of training features is {}'.format(X_train.shape))\n",
        "print('the shape of training labels is {}'.format(y_train.shape))\n",
        "print('the shape of test features is {}'.format(X_test.shape))\n",
        "print('the shape of test labels is {}'.format(y_test.shape))"
      ],
      "metadata": {
        "colab": {
          "base_uri": "https://localhost:8080/"
        },
        "id": "EbVCeJi5RO97",
        "outputId": "d498f291-dff4-4c24-c882-79837b0aae0b"
      },
      "execution_count": 16,
      "outputs": [
        {
          "output_type": "stream",
          "name": "stdout",
          "text": [
            "the shape of training features is (2343, 64, 64, 1)\n",
            "the shape of training labels is (2343, 4)\n",
            "the shape of test features is (124, 64, 64, 1)\n",
            "the shape of test labels is (124, 4)\n"
          ]
        }
      ]
    },
    {
      "cell_type": "code",
      "source": [
        "def identity_block(x, filter):\n",
        "    # copy tensor to variable called x_skip\n",
        "    x_skip = x\n",
        "    # Layer 1\n",
        "    x = tf.keras.layers.Conv2D(filter, (3,3), padding = 'same')(x)\n",
        "    x = tf.keras.layers.BatchNormalization(axis=3)(x)\n",
        "    x = tf.keras.layers.Activation('relu')(x)\n",
        "    # Layer 2\n",
        "    x = tf.keras.layers.Conv2D(filter, (3,3), padding = 'same')(x)\n",
        "    x = tf.keras.layers.BatchNormalization(axis=3)(x)\n",
        "\n",
        "    # Add Residue\n",
        "    x = tf.keras.layers.Add()([x, x_skip])     \n",
        "    x = tf.keras.layers.Activation('relu')(x)\n",
        "    return x\n",
        "\n",
        "\n",
        "def convolutional_block(x, filter):\n",
        "    # copy tensor to variable called x_skip\n",
        "    x_skip = x\n",
        "    # Layer 1\n",
        "    x = tf.keras.layers.Conv2D(filter, (3,3), padding = 'same', strides = (2,2))(x)\n",
        "    x = tf.keras.layers.BatchNormalization(axis=3)(x)\n",
        "    x = tf.keras.layers.Activation('relu')(x)\n",
        "    # Layer 2\n",
        "    x = tf.keras.layers.Conv2D(filter, (3,3), padding = 'same')(x)\n",
        "    x = tf.keras.layers.BatchNormalization(axis=3)(x)\n",
        "\n",
        "    # Processing Residue with conv(1,1)\n",
        "    x_skip = tf.keras.layers.Conv2D(filter, (1,1), strides = (2,2))(x_skip)\n",
        "    # Add Residue\n",
        "    x = tf.keras.layers.Add()([x, x_skip])     \n",
        "    x = tf.keras.layers.Activation('relu')(x)\n",
        "    return x\n",
        "\n",
        "\n",
        "def ResidualNetworkFunction(shape = (32, 32, 3), classes = 2):\n",
        "    # Step 1 (Setup Input Layer)\n",
        "    x_input = tf.keras.layers.Input(shape)\n",
        "    x = tf.keras.layers.ZeroPadding2D((3, 3))(x_input)\n",
        "    # Step 2 (Initial Conv layer along with maxPool)\n",
        "    x = tf.keras.layers.Conv2D(64, kernel_size=7, strides=2, padding='same')(x)\n",
        "    x = tf.keras.layers.BatchNormalization()(x)\n",
        "    x = tf.keras.layers.Activation('relu')(x)\n",
        "    x = tf.keras.layers.MaxPool2D(pool_size=3, strides=2, padding='same')(x)\n",
        "    # Define size of sub-blocks and initial filter size\n",
        "    block_layers = [1, 2, 2, 2, 1]\n",
        "    filter_size = 64\n",
        "    # Step 3 Add the Resnet Blocks\n",
        "    for i in range(len(block_layers)):\n",
        "        if i == 0:\n",
        "            # For sub-block 1 Residual/Convolutional block not needed\n",
        "            for j in range(block_layers[i]):\n",
        "                x = identity_block(x, filter_size)\n",
        "        else:\n",
        "            # One Residual/Convolutional Block followed by Identity blocks\n",
        "            # The filter size will go on increasing by a factor of 2\n",
        "            filter_size = filter_size*2\n",
        "            x = convolutional_block(x, filter_size)\n",
        "            for j in range(block_layers[i] - 1):\n",
        "                x = identity_block(x, filter_size)\n",
        "    # Step 4 End Dense Network\n",
        "    x = tf.keras.layers.AveragePooling2D((2,2), padding = 'same')(x)\n",
        "    x = tf.keras.layers.Flatten()(x)\n",
        "    x = tf.keras.layers.Dense(512, activation = 'relu')(x)\n",
        "    x = tf.keras.layers.Dense(classes, activation = 'softmax')(x)\n",
        "    model = tf.keras.models.Model(inputs = x_input, outputs = x, name = \"ResNet34\")\n",
        "    return model\n",
        "\n",
        "\n",
        "resnetModel = ResidualNetworkFunction(shape=(64, 64, 1), classes=4)\n",
        "\n",
        "resnetModel.summary()\n"
      ],
      "metadata": {
        "colab": {
          "base_uri": "https://localhost:8080/"
        },
        "id": "j-CsybLUSSfc",
        "outputId": "d32bac56-16af-4d52-d0d6-1ff10844c18e"
      },
      "execution_count": 17,
      "outputs": [
        {
          "output_type": "stream",
          "name": "stdout",
          "text": [
            "Model: \"ResNet34\"\n",
            "__________________________________________________________________________________________________\n",
            " Layer (type)                   Output Shape         Param #     Connected to                     \n",
            "==================================================================================================\n",
            " input_1 (InputLayer)           [(None, 64, 64, 1)]  0           []                               \n",
            "                                                                                                  \n",
            " zero_padding2d (ZeroPadding2D)  (None, 70, 70, 1)   0           ['input_1[0][0]']                \n",
            "                                                                                                  \n",
            " conv2d (Conv2D)                (None, 35, 35, 64)   3200        ['zero_padding2d[0][0]']         \n",
            "                                                                                                  \n",
            " batch_normalization (BatchNorm  (None, 35, 35, 64)  256         ['conv2d[0][0]']                 \n",
            " alization)                                                                                       \n",
            "                                                                                                  \n",
            " activation (Activation)        (None, 35, 35, 64)   0           ['batch_normalization[0][0]']    \n",
            "                                                                                                  \n",
            " max_pooling2d (MaxPooling2D)   (None, 18, 18, 64)   0           ['activation[0][0]']             \n",
            "                                                                                                  \n",
            " conv2d_1 (Conv2D)              (None, 18, 18, 64)   36928       ['max_pooling2d[0][0]']          \n",
            "                                                                                                  \n",
            " batch_normalization_1 (BatchNo  (None, 18, 18, 64)  256         ['conv2d_1[0][0]']               \n",
            " rmalization)                                                                                     \n",
            "                                                                                                  \n",
            " activation_1 (Activation)      (None, 18, 18, 64)   0           ['batch_normalization_1[0][0]']  \n",
            "                                                                                                  \n",
            " conv2d_2 (Conv2D)              (None, 18, 18, 64)   36928       ['activation_1[0][0]']           \n",
            "                                                                                                  \n",
            " batch_normalization_2 (BatchNo  (None, 18, 18, 64)  256         ['conv2d_2[0][0]']               \n",
            " rmalization)                                                                                     \n",
            "                                                                                                  \n",
            " add (Add)                      (None, 18, 18, 64)   0           ['batch_normalization_2[0][0]',  \n",
            "                                                                  'max_pooling2d[0][0]']          \n",
            "                                                                                                  \n",
            " activation_2 (Activation)      (None, 18, 18, 64)   0           ['add[0][0]']                    \n",
            "                                                                                                  \n",
            " conv2d_3 (Conv2D)              (None, 9, 9, 128)    73856       ['activation_2[0][0]']           \n",
            "                                                                                                  \n",
            " batch_normalization_3 (BatchNo  (None, 9, 9, 128)   512         ['conv2d_3[0][0]']               \n",
            " rmalization)                                                                                     \n",
            "                                                                                                  \n",
            " activation_3 (Activation)      (None, 9, 9, 128)    0           ['batch_normalization_3[0][0]']  \n",
            "                                                                                                  \n",
            " conv2d_4 (Conv2D)              (None, 9, 9, 128)    147584      ['activation_3[0][0]']           \n",
            "                                                                                                  \n",
            " batch_normalization_4 (BatchNo  (None, 9, 9, 128)   512         ['conv2d_4[0][0]']               \n",
            " rmalization)                                                                                     \n",
            "                                                                                                  \n",
            " conv2d_5 (Conv2D)              (None, 9, 9, 128)    8320        ['activation_2[0][0]']           \n",
            "                                                                                                  \n",
            " add_1 (Add)                    (None, 9, 9, 128)    0           ['batch_normalization_4[0][0]',  \n",
            "                                                                  'conv2d_5[0][0]']               \n",
            "                                                                                                  \n",
            " activation_4 (Activation)      (None, 9, 9, 128)    0           ['add_1[0][0]']                  \n",
            "                                                                                                  \n",
            " conv2d_6 (Conv2D)              (None, 9, 9, 128)    147584      ['activation_4[0][0]']           \n",
            "                                                                                                  \n",
            " batch_normalization_5 (BatchNo  (None, 9, 9, 128)   512         ['conv2d_6[0][0]']               \n",
            " rmalization)                                                                                     \n",
            "                                                                                                  \n",
            " activation_5 (Activation)      (None, 9, 9, 128)    0           ['batch_normalization_5[0][0]']  \n",
            "                                                                                                  \n",
            " conv2d_7 (Conv2D)              (None, 9, 9, 128)    147584      ['activation_5[0][0]']           \n",
            "                                                                                                  \n",
            " batch_normalization_6 (BatchNo  (None, 9, 9, 128)   512         ['conv2d_7[0][0]']               \n",
            " rmalization)                                                                                     \n",
            "                                                                                                  \n",
            " add_2 (Add)                    (None, 9, 9, 128)    0           ['batch_normalization_6[0][0]',  \n",
            "                                                                  'activation_4[0][0]']           \n",
            "                                                                                                  \n",
            " activation_6 (Activation)      (None, 9, 9, 128)    0           ['add_2[0][0]']                  \n",
            "                                                                                                  \n",
            " conv2d_8 (Conv2D)              (None, 5, 5, 256)    295168      ['activation_6[0][0]']           \n",
            "                                                                                                  \n",
            " batch_normalization_7 (BatchNo  (None, 5, 5, 256)   1024        ['conv2d_8[0][0]']               \n",
            " rmalization)                                                                                     \n",
            "                                                                                                  \n",
            " activation_7 (Activation)      (None, 5, 5, 256)    0           ['batch_normalization_7[0][0]']  \n",
            "                                                                                                  \n",
            " conv2d_9 (Conv2D)              (None, 5, 5, 256)    590080      ['activation_7[0][0]']           \n",
            "                                                                                                  \n",
            " batch_normalization_8 (BatchNo  (None, 5, 5, 256)   1024        ['conv2d_9[0][0]']               \n",
            " rmalization)                                                                                     \n",
            "                                                                                                  \n",
            " conv2d_10 (Conv2D)             (None, 5, 5, 256)    33024       ['activation_6[0][0]']           \n",
            "                                                                                                  \n",
            " add_3 (Add)                    (None, 5, 5, 256)    0           ['batch_normalization_8[0][0]',  \n",
            "                                                                  'conv2d_10[0][0]']              \n",
            "                                                                                                  \n",
            " activation_8 (Activation)      (None, 5, 5, 256)    0           ['add_3[0][0]']                  \n",
            "                                                                                                  \n",
            " conv2d_11 (Conv2D)             (None, 5, 5, 256)    590080      ['activation_8[0][0]']           \n",
            "                                                                                                  \n",
            " batch_normalization_9 (BatchNo  (None, 5, 5, 256)   1024        ['conv2d_11[0][0]']              \n",
            " rmalization)                                                                                     \n",
            "                                                                                                  \n",
            " activation_9 (Activation)      (None, 5, 5, 256)    0           ['batch_normalization_9[0][0]']  \n",
            "                                                                                                  \n",
            " conv2d_12 (Conv2D)             (None, 5, 5, 256)    590080      ['activation_9[0][0]']           \n",
            "                                                                                                  \n",
            " batch_normalization_10 (BatchN  (None, 5, 5, 256)   1024        ['conv2d_12[0][0]']              \n",
            " ormalization)                                                                                    \n",
            "                                                                                                  \n",
            " add_4 (Add)                    (None, 5, 5, 256)    0           ['batch_normalization_10[0][0]', \n",
            "                                                                  'activation_8[0][0]']           \n",
            "                                                                                                  \n",
            " activation_10 (Activation)     (None, 5, 5, 256)    0           ['add_4[0][0]']                  \n",
            "                                                                                                  \n",
            " conv2d_13 (Conv2D)             (None, 3, 3, 512)    1180160     ['activation_10[0][0]']          \n",
            "                                                                                                  \n",
            " batch_normalization_11 (BatchN  (None, 3, 3, 512)   2048        ['conv2d_13[0][0]']              \n",
            " ormalization)                                                                                    \n",
            "                                                                                                  \n",
            " activation_11 (Activation)     (None, 3, 3, 512)    0           ['batch_normalization_11[0][0]'] \n",
            "                                                                                                  \n",
            " conv2d_14 (Conv2D)             (None, 3, 3, 512)    2359808     ['activation_11[0][0]']          \n",
            "                                                                                                  \n",
            " batch_normalization_12 (BatchN  (None, 3, 3, 512)   2048        ['conv2d_14[0][0]']              \n",
            " ormalization)                                                                                    \n",
            "                                                                                                  \n",
            " conv2d_15 (Conv2D)             (None, 3, 3, 512)    131584      ['activation_10[0][0]']          \n",
            "                                                                                                  \n",
            " add_5 (Add)                    (None, 3, 3, 512)    0           ['batch_normalization_12[0][0]', \n",
            "                                                                  'conv2d_15[0][0]']              \n",
            "                                                                                                  \n",
            " activation_12 (Activation)     (None, 3, 3, 512)    0           ['add_5[0][0]']                  \n",
            "                                                                                                  \n",
            " conv2d_16 (Conv2D)             (None, 3, 3, 512)    2359808     ['activation_12[0][0]']          \n",
            "                                                                                                  \n",
            " batch_normalization_13 (BatchN  (None, 3, 3, 512)   2048        ['conv2d_16[0][0]']              \n",
            " ormalization)                                                                                    \n",
            "                                                                                                  \n",
            " activation_13 (Activation)     (None, 3, 3, 512)    0           ['batch_normalization_13[0][0]'] \n",
            "                                                                                                  \n",
            " conv2d_17 (Conv2D)             (None, 3, 3, 512)    2359808     ['activation_13[0][0]']          \n",
            "                                                                                                  \n",
            " batch_normalization_14 (BatchN  (None, 3, 3, 512)   2048        ['conv2d_17[0][0]']              \n",
            " ormalization)                                                                                    \n",
            "                                                                                                  \n",
            " add_6 (Add)                    (None, 3, 3, 512)    0           ['batch_normalization_14[0][0]', \n",
            "                                                                  'activation_12[0][0]']          \n",
            "                                                                                                  \n",
            " activation_14 (Activation)     (None, 3, 3, 512)    0           ['add_6[0][0]']                  \n",
            "                                                                                                  \n",
            " conv2d_18 (Conv2D)             (None, 2, 2, 1024)   4719616     ['activation_14[0][0]']          \n",
            "                                                                                                  \n",
            " batch_normalization_15 (BatchN  (None, 2, 2, 1024)  4096        ['conv2d_18[0][0]']              \n",
            " ormalization)                                                                                    \n",
            "                                                                                                  \n",
            " activation_15 (Activation)     (None, 2, 2, 1024)   0           ['batch_normalization_15[0][0]'] \n",
            "                                                                                                  \n",
            " conv2d_19 (Conv2D)             (None, 2, 2, 1024)   9438208     ['activation_15[0][0]']          \n",
            "                                                                                                  \n",
            " batch_normalization_16 (BatchN  (None, 2, 2, 1024)  4096        ['conv2d_19[0][0]']              \n",
            " ormalization)                                                                                    \n",
            "                                                                                                  \n",
            " conv2d_20 (Conv2D)             (None, 2, 2, 1024)   525312      ['activation_14[0][0]']          \n",
            "                                                                                                  \n",
            " add_7 (Add)                    (None, 2, 2, 1024)   0           ['batch_normalization_16[0][0]', \n",
            "                                                                  'conv2d_20[0][0]']              \n",
            "                                                                                                  \n",
            " activation_16 (Activation)     (None, 2, 2, 1024)   0           ['add_7[0][0]']                  \n",
            "                                                                                                  \n",
            " average_pooling2d (AveragePool  (None, 1, 1, 1024)  0           ['activation_16[0][0]']          \n",
            " ing2D)                                                                                           \n",
            "                                                                                                  \n",
            " flatten (Flatten)              (None, 1024)         0           ['average_pooling2d[0][0]']      \n",
            "                                                                                                  \n",
            " dense (Dense)                  (None, 512)          524800      ['flatten[0][0]']                \n",
            "                                                                                                  \n",
            " dense_1 (Dense)                (None, 4)            2052        ['dense[0][0]']                  \n",
            "                                                                                                  \n",
            "==================================================================================================\n",
            "Total params: 26,324,868\n",
            "Trainable params: 26,313,220\n",
            "Non-trainable params: 11,648\n",
            "__________________________________________________________________________________________________\n"
          ]
        }
      ]
    },
    {
      "cell_type": "code",
      "source": [
        "resnetModel.compile(loss=tf.keras.losses.CategoricalCrossentropy(from_logits=False), \n",
        "                optimizer=tf.keras.optimizers.RMSprop(learning_rate=0.0007, \n",
        "                                                        rho=0.75, \n",
        "                                                        momentum=0.75), \n",
        "                metrics=['accuracy'])\n",
        "\n",
        "lr_reduction = tf.keras.callbacks.ReduceLROnPlateau(monitor='val_loss', \n",
        "                                                    factor=0.2, \n",
        "                                                    patience=50, \n",
        "                                                    min_lr=0.001)\n",
        "\n",
        "early_stopping = tf.keras.callbacks.EarlyStopping(monitor='val_loss', \n",
        "                                                  patience=50, \n",
        "                                                  min_delta=0)\n",
        "\n",
        "callbacks = [lr_reduction, early_stopping]\n",
        "\n",
        "history = resnetModel.fit(X_train, y_train.toarray(), \n",
        "                            batch_size=512, \n",
        "                            validation_split=0.05, \n",
        "                            shuffle=True, \n",
        "                            epochs=1000, \n",
        "                            initial_epoch=0, callbacks=callbacks)\n"
      ],
      "metadata": {
        "colab": {
          "base_uri": "https://localhost:8080/"
        },
        "id": "y3JgrgnQS2nR",
        "outputId": "c0119417-beb4-4c5d-84f0-790d270c1936"
      },
      "execution_count": 19,
      "outputs": [
        {
          "output_type": "stream",
          "name": "stdout",
          "text": [
            "Epoch 1/1000\n",
            "5/5 [==============================] - 16s 478ms/step - loss: 3.2126 - accuracy: 0.3892 - val_loss: 3710761.0000 - val_accuracy: 0.2203 - lr: 7.0000e-04\n",
            "Epoch 2/1000\n",
            "5/5 [==============================] - 1s 148ms/step - loss: 1.1566 - accuracy: 0.5187 - val_loss: 7712177.0000 - val_accuracy: 0.2203 - lr: 7.0000e-04\n",
            "Epoch 3/1000\n",
            "5/5 [==============================] - 1s 147ms/step - loss: 0.6928 - accuracy: 0.5537 - val_loss: 5562289.0000 - val_accuracy: 0.2203 - lr: 7.0000e-04\n",
            "Epoch 4/1000\n",
            "5/5 [==============================] - 1s 147ms/step - loss: 0.6589 - accuracy: 0.5600 - val_loss: 558110.3125 - val_accuracy: 0.2203 - lr: 7.0000e-04\n",
            "Epoch 5/1000\n",
            "5/5 [==============================] - 1s 148ms/step - loss: 0.6437 - accuracy: 0.5879 - val_loss: 213520.8438 - val_accuracy: 0.2203 - lr: 7.0000e-04\n",
            "Epoch 6/1000\n",
            "5/5 [==============================] - 1s 148ms/step - loss: 0.6650 - accuracy: 0.6148 - val_loss: 352214.7500 - val_accuracy: 0.2203 - lr: 7.0000e-04\n",
            "Epoch 7/1000\n",
            "5/5 [==============================] - 1s 148ms/step - loss: 0.6798 - accuracy: 0.5807 - val_loss: 34930.1289 - val_accuracy: 0.2203 - lr: 7.0000e-04\n",
            "Epoch 8/1000\n",
            "5/5 [==============================] - 1s 149ms/step - loss: 0.6192 - accuracy: 0.6283 - val_loss: 33987.1562 - val_accuracy: 0.2203 - lr: 7.0000e-04\n",
            "Epoch 9/1000\n",
            "5/5 [==============================] - 1s 148ms/step - loss: 0.7512 - accuracy: 0.6737 - val_loss: 162088.5781 - val_accuracy: 0.2203 - lr: 7.0000e-04\n",
            "Epoch 10/1000\n",
            "5/5 [==============================] - 1s 148ms/step - loss: 0.6258 - accuracy: 0.6094 - val_loss: 71575.1016 - val_accuracy: 0.2203 - lr: 7.0000e-04\n",
            "Epoch 11/1000\n",
            "5/5 [==============================] - 1s 149ms/step - loss: 0.4423 - accuracy: 0.7744 - val_loss: 145189.3594 - val_accuracy: 0.2203 - lr: 7.0000e-04\n",
            "Epoch 12/1000\n",
            "5/5 [==============================] - 1s 148ms/step - loss: 0.3736 - accuracy: 0.8067 - val_loss: 39211.8398 - val_accuracy: 0.2203 - lr: 7.0000e-04\n",
            "Epoch 13/1000\n",
            "5/5 [==============================] - 1s 148ms/step - loss: 0.3530 - accuracy: 0.8279 - val_loss: 7270.5869 - val_accuracy: 0.2203 - lr: 7.0000e-04\n",
            "Epoch 14/1000\n",
            "5/5 [==============================] - 1s 148ms/step - loss: 0.3153 - accuracy: 0.8440 - val_loss: 4914.9673 - val_accuracy: 0.2203 - lr: 7.0000e-04\n",
            "Epoch 15/1000\n",
            "5/5 [==============================] - 1s 148ms/step - loss: 0.3604 - accuracy: 0.8144 - val_loss: 17510.6113 - val_accuracy: 0.2203 - lr: 7.0000e-04\n",
            "Epoch 16/1000\n",
            "5/5 [==============================] - 1s 149ms/step - loss: 0.3252 - accuracy: 0.8144 - val_loss: 16215.6855 - val_accuracy: 0.2203 - lr: 7.0000e-04\n",
            "Epoch 17/1000\n",
            "5/5 [==============================] - 1s 150ms/step - loss: 0.3035 - accuracy: 0.8382 - val_loss: 8985.9395 - val_accuracy: 0.2203 - lr: 7.0000e-04\n",
            "Epoch 18/1000\n",
            "5/5 [==============================] - 1s 149ms/step - loss: 0.2897 - accuracy: 0.8067 - val_loss: 3621.0281 - val_accuracy: 0.2203 - lr: 7.0000e-04\n",
            "Epoch 19/1000\n",
            "5/5 [==============================] - 1s 148ms/step - loss: 0.2878 - accuracy: 0.8611 - val_loss: 1300.2826 - val_accuracy: 0.2203 - lr: 7.0000e-04\n",
            "Epoch 20/1000\n",
            "5/5 [==============================] - 1s 149ms/step - loss: 0.2626 - accuracy: 0.8706 - val_loss: 1302.7974 - val_accuracy: 0.2542 - lr: 7.0000e-04\n",
            "Epoch 21/1000\n",
            "5/5 [==============================] - 1s 149ms/step - loss: 0.2701 - accuracy: 0.8647 - val_loss: 622.6201 - val_accuracy: 0.2966 - lr: 7.0000e-04\n",
            "Epoch 22/1000\n",
            "5/5 [==============================] - 1s 149ms/step - loss: 0.2557 - accuracy: 0.8697 - val_loss: 1146.4960 - val_accuracy: 0.2797 - lr: 7.0000e-04\n",
            "Epoch 23/1000\n",
            "5/5 [==============================] - 1s 148ms/step - loss: 0.2298 - accuracy: 0.8894 - val_loss: 737.9249 - val_accuracy: 0.2203 - lr: 7.0000e-04\n",
            "Epoch 24/1000\n",
            "5/5 [==============================] - 1s 148ms/step - loss: 0.2231 - accuracy: 0.8944 - val_loss: 344.4539 - val_accuracy: 0.2797 - lr: 7.0000e-04\n",
            "Epoch 25/1000\n",
            "5/5 [==============================] - 1s 148ms/step - loss: 0.1911 - accuracy: 0.9182 - val_loss: 694.9529 - val_accuracy: 0.2288 - lr: 7.0000e-04\n",
            "Epoch 26/1000\n",
            "5/5 [==============================] - 1s 149ms/step - loss: 0.2411 - accuracy: 0.8926 - val_loss: 109.4493 - val_accuracy: 0.4576 - lr: 7.0000e-04\n",
            "Epoch 27/1000\n",
            "5/5 [==============================] - 1s 149ms/step - loss: 0.2657 - accuracy: 0.8782 - val_loss: 79.8069 - val_accuracy: 0.5085 - lr: 7.0000e-04\n",
            "Epoch 28/1000\n",
            "5/5 [==============================] - 1s 148ms/step - loss: 0.2183 - accuracy: 0.8989 - val_loss: 557.7355 - val_accuracy: 0.2373 - lr: 7.0000e-04\n",
            "Epoch 29/1000\n",
            "5/5 [==============================] - 1s 148ms/step - loss: 0.1631 - accuracy: 0.9258 - val_loss: 156.8011 - val_accuracy: 0.3136 - lr: 7.0000e-04\n",
            "Epoch 30/1000\n",
            "5/5 [==============================] - 1s 148ms/step - loss: 0.1575 - accuracy: 0.9308 - val_loss: 25.8252 - val_accuracy: 0.6017 - lr: 7.0000e-04\n",
            "Epoch 31/1000\n",
            "5/5 [==============================] - 1s 148ms/step - loss: 0.1362 - accuracy: 0.9456 - val_loss: 53.5409 - val_accuracy: 0.5339 - lr: 7.0000e-04\n",
            "Epoch 32/1000\n",
            "5/5 [==============================] - 1s 149ms/step - loss: 0.1157 - accuracy: 0.9537 - val_loss: 33.9683 - val_accuracy: 0.5932 - lr: 7.0000e-04\n",
            "Epoch 33/1000\n",
            "5/5 [==============================] - 1s 149ms/step - loss: 0.0769 - accuracy: 0.9717 - val_loss: 105.3317 - val_accuracy: 0.3644 - lr: 7.0000e-04\n",
            "Epoch 34/1000\n",
            "5/5 [==============================] - 1s 148ms/step - loss: 0.0548 - accuracy: 0.9784 - val_loss: 39.2637 - val_accuracy: 0.6271 - lr: 7.0000e-04\n",
            "Epoch 35/1000\n",
            "5/5 [==============================] - 1s 149ms/step - loss: 0.1184 - accuracy: 0.9676 - val_loss: 5.2035 - val_accuracy: 0.7627 - lr: 7.0000e-04\n",
            "Epoch 36/1000\n",
            "5/5 [==============================] - 1s 148ms/step - loss: 0.1505 - accuracy: 0.9447 - val_loss: 19.1477 - val_accuracy: 0.6356 - lr: 7.0000e-04\n",
            "Epoch 37/1000\n",
            "5/5 [==============================] - 1s 148ms/step - loss: 0.0755 - accuracy: 0.9730 - val_loss: 37.8597 - val_accuracy: 0.5593 - lr: 7.0000e-04\n",
            "Epoch 38/1000\n",
            "5/5 [==============================] - 1s 148ms/step - loss: 0.0354 - accuracy: 0.9901 - val_loss: 36.5835 - val_accuracy: 0.5508 - lr: 7.0000e-04\n",
            "Epoch 39/1000\n",
            "5/5 [==============================] - 1s 149ms/step - loss: 0.0413 - accuracy: 0.9838 - val_loss: 76.9581 - val_accuracy: 0.3644 - lr: 7.0000e-04\n",
            "Epoch 40/1000\n",
            "5/5 [==============================] - 1s 151ms/step - loss: 0.0546 - accuracy: 0.9780 - val_loss: 1.2099 - val_accuracy: 0.7373 - lr: 7.0000e-04\n",
            "Epoch 41/1000\n",
            "5/5 [==============================] - 1s 149ms/step - loss: 0.0419 - accuracy: 0.9874 - val_loss: 0.2198 - val_accuracy: 0.9068 - lr: 7.0000e-04\n",
            "Epoch 42/1000\n",
            "5/5 [==============================] - 1s 148ms/step - loss: 0.0401 - accuracy: 0.9847 - val_loss: 26.4993 - val_accuracy: 0.6610 - lr: 7.0000e-04\n",
            "Epoch 43/1000\n",
            "5/5 [==============================] - 1s 148ms/step - loss: 0.0222 - accuracy: 0.9937 - val_loss: 18.0711 - val_accuracy: 0.6949 - lr: 7.0000e-04\n",
            "Epoch 44/1000\n",
            "5/5 [==============================] - 1s 148ms/step - loss: 0.0269 - accuracy: 0.9928 - val_loss: 63.5530 - val_accuracy: 0.3559 - lr: 7.0000e-04\n",
            "Epoch 45/1000\n",
            "5/5 [==============================] - 1s 147ms/step - loss: 0.0807 - accuracy: 0.9717 - val_loss: 1.3935 - val_accuracy: 0.7542 - lr: 7.0000e-04\n",
            "Epoch 46/1000\n",
            "5/5 [==============================] - 1s 147ms/step - loss: 0.0349 - accuracy: 0.9915 - val_loss: 6.7752 - val_accuracy: 0.7288 - lr: 7.0000e-04\n",
            "Epoch 47/1000\n",
            "5/5 [==============================] - 1s 148ms/step - loss: 0.0143 - accuracy: 0.9951 - val_loss: 10.1720 - val_accuracy: 0.7034 - lr: 7.0000e-04\n",
            "Epoch 48/1000\n",
            "5/5 [==============================] - 1s 147ms/step - loss: 0.0110 - accuracy: 0.9964 - val_loss: 0.3438 - val_accuracy: 0.9153 - lr: 7.0000e-04\n",
            "Epoch 49/1000\n",
            "5/5 [==============================] - 1s 147ms/step - loss: 0.0096 - accuracy: 0.9982 - val_loss: 3.0579 - val_accuracy: 0.7542 - lr: 7.0000e-04\n",
            "Epoch 50/1000\n",
            "5/5 [==============================] - 1s 147ms/step - loss: 0.0057 - accuracy: 0.9982 - val_loss: 25.3937 - val_accuracy: 0.5593 - lr: 7.0000e-04\n",
            "Epoch 51/1000\n",
            "5/5 [==============================] - 1s 147ms/step - loss: 0.0263 - accuracy: 0.9928 - val_loss: 46.4193 - val_accuracy: 0.4153 - lr: 7.0000e-04\n",
            "Epoch 52/1000\n",
            "5/5 [==============================] - 1s 147ms/step - loss: 0.0262 - accuracy: 0.9924 - val_loss: 89.9220 - val_accuracy: 0.3051 - lr: 7.0000e-04\n",
            "Epoch 53/1000\n",
            "5/5 [==============================] - 1s 147ms/step - loss: 0.0293 - accuracy: 0.9901 - val_loss: 23.0079 - val_accuracy: 0.6864 - lr: 7.0000e-04\n",
            "Epoch 54/1000\n",
            "5/5 [==============================] - 1s 148ms/step - loss: 0.0123 - accuracy: 0.9964 - val_loss: 0.2673 - val_accuracy: 0.9576 - lr: 7.0000e-04\n",
            "Epoch 55/1000\n",
            "5/5 [==============================] - 1s 148ms/step - loss: 0.0094 - accuracy: 0.9973 - val_loss: 0.3020 - val_accuracy: 0.9322 - lr: 7.0000e-04\n",
            "Epoch 56/1000\n",
            "5/5 [==============================] - 1s 148ms/step - loss: 0.0200 - accuracy: 0.9937 - val_loss: 32.6810 - val_accuracy: 0.5000 - lr: 7.0000e-04\n",
            "Epoch 57/1000\n",
            "5/5 [==============================] - 1s 147ms/step - loss: 0.0990 - accuracy: 0.9735 - val_loss: 4.1693 - val_accuracy: 0.7712 - lr: 7.0000e-04\n",
            "Epoch 58/1000\n",
            "5/5 [==============================] - 1s 148ms/step - loss: 0.0249 - accuracy: 0.9910 - val_loss: 19.7095 - val_accuracy: 0.6271 - lr: 7.0000e-04\n",
            "Epoch 59/1000\n",
            "5/5 [==============================] - 1s 149ms/step - loss: 0.0069 - accuracy: 0.9982 - val_loss: 7.4639 - val_accuracy: 0.7203 - lr: 7.0000e-04\n",
            "Epoch 60/1000\n",
            "5/5 [==============================] - 1s 150ms/step - loss: 0.0021 - accuracy: 0.9991 - val_loss: 2.4292 - val_accuracy: 0.7797 - lr: 7.0000e-04\n",
            "Epoch 61/1000\n",
            "5/5 [==============================] - 1s 149ms/step - loss: 0.0046 - accuracy: 0.9978 - val_loss: 10.2717 - val_accuracy: 0.7203 - lr: 7.0000e-04\n",
            "Epoch 62/1000\n",
            "5/5 [==============================] - 1s 149ms/step - loss: 0.0013 - accuracy: 1.0000 - val_loss: 0.3436 - val_accuracy: 0.9322 - lr: 7.0000e-04\n",
            "Epoch 63/1000\n",
            "5/5 [==============================] - 1s 148ms/step - loss: 0.0034 - accuracy: 0.9987 - val_loss: 16.3597 - val_accuracy: 0.5932 - lr: 7.0000e-04\n",
            "Epoch 64/1000\n",
            "5/5 [==============================] - 1s 148ms/step - loss: 0.0756 - accuracy: 0.9838 - val_loss: 23.8133 - val_accuracy: 0.6864 - lr: 7.0000e-04\n",
            "Epoch 65/1000\n",
            "5/5 [==============================] - 1s 148ms/step - loss: 0.0174 - accuracy: 0.9946 - val_loss: 3.3257 - val_accuracy: 0.7373 - lr: 7.0000e-04\n",
            "Epoch 66/1000\n",
            "5/5 [==============================] - 1s 149ms/step - loss: 0.0056 - accuracy: 0.9987 - val_loss: 1.1626 - val_accuracy: 0.7458 - lr: 7.0000e-04\n",
            "Epoch 67/1000\n",
            "5/5 [==============================] - 1s 150ms/step - loss: 0.0196 - accuracy: 0.9960 - val_loss: 3.1133 - val_accuracy: 0.7542 - lr: 7.0000e-04\n",
            "Epoch 68/1000\n",
            "5/5 [==============================] - 1s 149ms/step - loss: 0.0071 - accuracy: 0.9978 - val_loss: 19.9062 - val_accuracy: 0.4068 - lr: 7.0000e-04\n",
            "Epoch 69/1000\n",
            "5/5 [==============================] - 1s 149ms/step - loss: 0.0128 - accuracy: 0.9964 - val_loss: 18.4591 - val_accuracy: 0.5508 - lr: 7.0000e-04\n",
            "Epoch 70/1000\n",
            "5/5 [==============================] - 1s 149ms/step - loss: 0.0324 - accuracy: 0.9910 - val_loss: 0.4444 - val_accuracy: 0.8983 - lr: 7.0000e-04\n",
            "Epoch 71/1000\n",
            "5/5 [==============================] - 1s 149ms/step - loss: 0.0148 - accuracy: 0.9933 - val_loss: 23.4415 - val_accuracy: 0.5678 - lr: 7.0000e-04\n",
            "Epoch 72/1000\n",
            "5/5 [==============================] - 1s 149ms/step - loss: 0.0075 - accuracy: 0.9978 - val_loss: 30.8868 - val_accuracy: 0.5508 - lr: 7.0000e-04\n",
            "Epoch 73/1000\n",
            "5/5 [==============================] - 1s 148ms/step - loss: 0.0041 - accuracy: 0.9987 - val_loss: 11.2414 - val_accuracy: 0.7119 - lr: 7.0000e-04\n",
            "Epoch 74/1000\n",
            "5/5 [==============================] - 1s 150ms/step - loss: 0.0051 - accuracy: 0.9987 - val_loss: 0.3732 - val_accuracy: 0.9153 - lr: 7.0000e-04\n",
            "Epoch 75/1000\n",
            "5/5 [==============================] - 1s 149ms/step - loss: 0.0086 - accuracy: 0.9969 - val_loss: 1.4595 - val_accuracy: 0.7881 - lr: 7.0000e-04\n",
            "Epoch 76/1000\n",
            "5/5 [==============================] - 1s 148ms/step - loss: 0.0344 - accuracy: 0.9897 - val_loss: 1.9078 - val_accuracy: 0.7542 - lr: 7.0000e-04\n",
            "Epoch 77/1000\n",
            "5/5 [==============================] - 1s 148ms/step - loss: 0.0144 - accuracy: 0.9942 - val_loss: 5.0248 - val_accuracy: 0.7203 - lr: 7.0000e-04\n",
            "Epoch 78/1000\n",
            "5/5 [==============================] - 1s 148ms/step - loss: 0.0032 - accuracy: 0.9996 - val_loss: 2.6000 - val_accuracy: 0.7627 - lr: 7.0000e-04\n",
            "Epoch 79/1000\n",
            "5/5 [==============================] - 1s 148ms/step - loss: 7.2281e-04 - accuracy: 1.0000 - val_loss: 1.1764 - val_accuracy: 0.7966 - lr: 7.0000e-04\n",
            "Epoch 80/1000\n",
            "5/5 [==============================] - 1s 149ms/step - loss: 1.1960e-04 - accuracy: 1.0000 - val_loss: 0.5401 - val_accuracy: 0.8814 - lr: 7.0000e-04\n",
            "Epoch 81/1000\n",
            "5/5 [==============================] - 1s 149ms/step - loss: 8.1005e-05 - accuracy: 1.0000 - val_loss: 0.2745 - val_accuracy: 0.9492 - lr: 7.0000e-04\n",
            "Epoch 82/1000\n",
            "5/5 [==============================] - 1s 149ms/step - loss: 7.4510e-05 - accuracy: 1.0000 - val_loss: 0.5108 - val_accuracy: 0.9407 - lr: 7.0000e-04\n",
            "Epoch 83/1000\n",
            "5/5 [==============================] - 1s 148ms/step - loss: 0.0083 - accuracy: 0.9987 - val_loss: 8.7675 - val_accuracy: 0.7119 - lr: 7.0000e-04\n",
            "Epoch 84/1000\n",
            "5/5 [==============================] - 1s 149ms/step - loss: 0.0011 - accuracy: 0.9996 - val_loss: 15.5331 - val_accuracy: 0.5339 - lr: 7.0000e-04\n",
            "Epoch 85/1000\n",
            "5/5 [==============================] - 1s 149ms/step - loss: 0.0162 - accuracy: 0.9946 - val_loss: 1.5384 - val_accuracy: 0.8390 - lr: 7.0000e-04\n",
            "Epoch 86/1000\n",
            "5/5 [==============================] - 1s 148ms/step - loss: 0.0365 - accuracy: 0.9897 - val_loss: 3.6365 - val_accuracy: 0.7203 - lr: 7.0000e-04\n",
            "Epoch 87/1000\n",
            "5/5 [==============================] - 1s 148ms/step - loss: 0.0299 - accuracy: 0.9919 - val_loss: 0.1887 - val_accuracy: 0.9322 - lr: 7.0000e-04\n",
            "Epoch 88/1000\n",
            "5/5 [==============================] - 1s 148ms/step - loss: 0.0130 - accuracy: 0.9973 - val_loss: 0.8114 - val_accuracy: 0.7797 - lr: 7.0000e-04\n",
            "Epoch 89/1000\n",
            "5/5 [==============================] - 1s 149ms/step - loss: 0.0112 - accuracy: 0.9973 - val_loss: 1.0519 - val_accuracy: 0.8644 - lr: 7.0000e-04\n",
            "Epoch 90/1000\n",
            "5/5 [==============================] - 1s 149ms/step - loss: 0.0073 - accuracy: 0.9978 - val_loss: 0.8955 - val_accuracy: 0.8898 - lr: 7.0000e-04\n",
            "Epoch 91/1000\n",
            "5/5 [==============================] - 1s 149ms/step - loss: 0.0106 - accuracy: 0.9964 - val_loss: 0.5325 - val_accuracy: 0.8983 - lr: 7.0000e-04\n",
            "Epoch 92/1000\n",
            "5/5 [==============================] - 1s 148ms/step - loss: 0.0021 - accuracy: 0.9996 - val_loss: 1.4579 - val_accuracy: 0.7881 - lr: 7.0000e-04\n",
            "Epoch 93/1000\n",
            "5/5 [==============================] - 1s 150ms/step - loss: 4.9824e-04 - accuracy: 1.0000 - val_loss: 7.8142 - val_accuracy: 0.5678 - lr: 7.0000e-04\n",
            "Epoch 94/1000\n",
            "5/5 [==============================] - 1s 150ms/step - loss: 1.6766e-04 - accuracy: 1.0000 - val_loss: 2.5058 - val_accuracy: 0.7712 - lr: 7.0000e-04\n",
            "Epoch 95/1000\n",
            "5/5 [==============================] - 1s 150ms/step - loss: 4.9859e-05 - accuracy: 1.0000 - val_loss: 0.5066 - val_accuracy: 0.8983 - lr: 7.0000e-04\n",
            "Epoch 96/1000\n",
            "5/5 [==============================] - 1s 149ms/step - loss: 4.2376e-05 - accuracy: 1.0000 - val_loss: 0.4865 - val_accuracy: 0.9068 - lr: 7.0000e-04\n",
            "Epoch 97/1000\n",
            "5/5 [==============================] - 1s 149ms/step - loss: 3.6549e-05 - accuracy: 1.0000 - val_loss: 0.2125 - val_accuracy: 0.9576 - lr: 7.0000e-04\n",
            "Epoch 98/1000\n",
            "5/5 [==============================] - 1s 149ms/step - loss: 2.4332e-05 - accuracy: 1.0000 - val_loss: 0.3376 - val_accuracy: 0.9407 - lr: 7.0000e-04\n",
            "Epoch 99/1000\n",
            "5/5 [==============================] - 1s 151ms/step - loss: 2.3952e-05 - accuracy: 1.0000 - val_loss: 0.2453 - val_accuracy: 0.9661 - lr: 7.0000e-04\n",
            "Epoch 100/1000\n",
            "5/5 [==============================] - 1s 149ms/step - loss: 1.6628e-05 - accuracy: 1.0000 - val_loss: 0.2717 - val_accuracy: 0.9661 - lr: 7.0000e-04\n",
            "Epoch 101/1000\n",
            "5/5 [==============================] - 1s 150ms/step - loss: 1.6588e-05 - accuracy: 1.0000 - val_loss: 0.2486 - val_accuracy: 0.9661 - lr: 7.0000e-04\n",
            "Epoch 102/1000\n",
            "5/5 [==============================] - 1s 150ms/step - loss: 1.3092e-05 - accuracy: 1.0000 - val_loss: 0.2144 - val_accuracy: 0.9661 - lr: 7.0000e-04\n",
            "Epoch 103/1000\n",
            "5/5 [==============================] - 1s 150ms/step - loss: 1.1831e-05 - accuracy: 1.0000 - val_loss: 0.2111 - val_accuracy: 0.9661 - lr: 7.0000e-04\n",
            "Epoch 104/1000\n",
            "5/5 [==============================] - 1s 149ms/step - loss: 1.0014e-05 - accuracy: 1.0000 - val_loss: 0.2098 - val_accuracy: 0.9661 - lr: 7.0000e-04\n",
            "Epoch 105/1000\n",
            "5/5 [==============================] - 1s 148ms/step - loss: 1.0763e-05 - accuracy: 1.0000 - val_loss: 0.2095 - val_accuracy: 0.9661 - lr: 7.0000e-04\n",
            "Epoch 106/1000\n",
            "5/5 [==============================] - 1s 148ms/step - loss: 9.9311e-06 - accuracy: 1.0000 - val_loss: 0.2082 - val_accuracy: 0.9661 - lr: 7.0000e-04\n",
            "Epoch 107/1000\n",
            "5/5 [==============================] - 1s 149ms/step - loss: 8.2788e-06 - accuracy: 1.0000 - val_loss: 0.1971 - val_accuracy: 0.9661 - lr: 7.0000e-04\n",
            "Epoch 108/1000\n",
            "5/5 [==============================] - 1s 150ms/step - loss: 8.1806e-06 - accuracy: 1.0000 - val_loss: 0.1926 - val_accuracy: 0.9661 - lr: 7.0000e-04\n",
            "Epoch 109/1000\n",
            "5/5 [==============================] - 1s 149ms/step - loss: 7.2636e-06 - accuracy: 1.0000 - val_loss: 0.1914 - val_accuracy: 0.9661 - lr: 7.0000e-04\n",
            "Epoch 110/1000\n",
            "5/5 [==============================] - 1s 149ms/step - loss: 6.7752e-06 - accuracy: 1.0000 - val_loss: 0.1915 - val_accuracy: 0.9661 - lr: 7.0000e-04\n",
            "Epoch 111/1000\n",
            "5/5 [==============================] - 1s 149ms/step - loss: 7.7455e-06 - accuracy: 1.0000 - val_loss: 0.1876 - val_accuracy: 0.9661 - lr: 7.0000e-04\n",
            "Epoch 112/1000\n",
            "5/5 [==============================] - 1s 149ms/step - loss: 7.4287e-06 - accuracy: 1.0000 - val_loss: 0.1837 - val_accuracy: 0.9661 - lr: 7.0000e-04\n",
            "Epoch 113/1000\n",
            "5/5 [==============================] - 1s 149ms/step - loss: 6.3925e-06 - accuracy: 1.0000 - val_loss: 0.1758 - val_accuracy: 0.9661 - lr: 7.0000e-04\n",
            "Epoch 114/1000\n",
            "5/5 [==============================] - 1s 148ms/step - loss: 5.7063e-06 - accuracy: 1.0000 - val_loss: 0.1737 - val_accuracy: 0.9661 - lr: 7.0000e-04\n",
            "Epoch 115/1000\n",
            "5/5 [==============================] - 1s 149ms/step - loss: 6.3771e-06 - accuracy: 1.0000 - val_loss: 0.1727 - val_accuracy: 0.9661 - lr: 7.0000e-04\n",
            "Epoch 116/1000\n",
            "5/5 [==============================] - 1s 148ms/step - loss: 5.3974e-06 - accuracy: 1.0000 - val_loss: 0.1702 - val_accuracy: 0.9661 - lr: 7.0000e-04\n",
            "Epoch 117/1000\n",
            "5/5 [==============================] - 1s 149ms/step - loss: 5.6102e-06 - accuracy: 1.0000 - val_loss: 0.1684 - val_accuracy: 0.9661 - lr: 7.0000e-04\n",
            "Epoch 118/1000\n",
            "5/5 [==============================] - 1s 149ms/step - loss: 5.5819e-06 - accuracy: 1.0000 - val_loss: 0.1688 - val_accuracy: 0.9661 - lr: 7.0000e-04\n",
            "Epoch 119/1000\n",
            "5/5 [==============================] - 1s 149ms/step - loss: 6.6826e-06 - accuracy: 1.0000 - val_loss: 0.1621 - val_accuracy: 0.9746 - lr: 7.0000e-04\n",
            "Epoch 120/1000\n",
            "5/5 [==============================] - 1s 148ms/step - loss: 4.8185e-06 - accuracy: 1.0000 - val_loss: 0.1575 - val_accuracy: 0.9831 - lr: 7.0000e-04\n",
            "Epoch 121/1000\n",
            "5/5 [==============================] - 1s 149ms/step - loss: 4.7886e-06 - accuracy: 1.0000 - val_loss: 0.1563 - val_accuracy: 0.9746 - lr: 7.0000e-04\n",
            "Epoch 122/1000\n",
            "5/5 [==============================] - 1s 149ms/step - loss: 5.3238e-06 - accuracy: 1.0000 - val_loss: 0.1562 - val_accuracy: 0.9746 - lr: 7.0000e-04\n",
            "Epoch 123/1000\n",
            "5/5 [==============================] - 1s 148ms/step - loss: 5.0963e-06 - accuracy: 1.0000 - val_loss: 0.1597 - val_accuracy: 0.9831 - lr: 7.0000e-04\n",
            "Epoch 124/1000\n",
            "5/5 [==============================] - 1s 149ms/step - loss: 4.4945e-06 - accuracy: 1.0000 - val_loss: 0.1679 - val_accuracy: 0.9831 - lr: 7.0000e-04\n",
            "Epoch 125/1000\n",
            "5/5 [==============================] - 1s 149ms/step - loss: 4.1793e-06 - accuracy: 1.0000 - val_loss: 0.1659 - val_accuracy: 0.9831 - lr: 7.0000e-04\n",
            "Epoch 126/1000\n",
            "5/5 [==============================] - 1s 149ms/step - loss: 4.5057e-06 - accuracy: 1.0000 - val_loss: 0.1647 - val_accuracy: 0.9831 - lr: 7.0000e-04\n",
            "Epoch 127/1000\n",
            "5/5 [==============================] - 1s 149ms/step - loss: 4.8269e-06 - accuracy: 1.0000 - val_loss: 0.1637 - val_accuracy: 0.9831 - lr: 7.0000e-04\n",
            "Epoch 128/1000\n",
            "5/5 [==============================] - 1s 150ms/step - loss: 4.0162e-06 - accuracy: 1.0000 - val_loss: 0.1622 - val_accuracy: 0.9831 - lr: 7.0000e-04\n",
            "Epoch 129/1000\n",
            "5/5 [==============================] - 1s 148ms/step - loss: 3.9603e-06 - accuracy: 1.0000 - val_loss: 0.1610 - val_accuracy: 0.9831 - lr: 7.0000e-04\n",
            "Epoch 130/1000\n",
            "5/5 [==============================] - 1s 150ms/step - loss: 3.6857e-06 - accuracy: 1.0000 - val_loss: 0.1616 - val_accuracy: 0.9831 - lr: 7.0000e-04\n",
            "Epoch 131/1000\n",
            "5/5 [==============================] - 1s 149ms/step - loss: 3.8329e-06 - accuracy: 1.0000 - val_loss: 0.1623 - val_accuracy: 0.9831 - lr: 7.0000e-04\n",
            "Epoch 132/1000\n",
            "5/5 [==============================] - 1s 148ms/step - loss: 4.0799e-06 - accuracy: 1.0000 - val_loss: 0.1631 - val_accuracy: 0.9831 - lr: 7.0000e-04\n",
            "Epoch 133/1000\n",
            "5/5 [==============================] - 1s 148ms/step - loss: 3.5800e-06 - accuracy: 1.0000 - val_loss: 0.1642 - val_accuracy: 0.9831 - lr: 7.0000e-04\n",
            "Epoch 134/1000\n",
            "5/5 [==============================] - 1s 149ms/step - loss: 3.5156e-06 - accuracy: 1.0000 - val_loss: 0.1633 - val_accuracy: 0.9831 - lr: 7.0000e-04\n",
            "Epoch 135/1000\n",
            "5/5 [==============================] - 1s 149ms/step - loss: 3.1468e-06 - accuracy: 1.0000 - val_loss: 0.1631 - val_accuracy: 0.9831 - lr: 7.0000e-04\n",
            "Epoch 136/1000\n",
            "5/5 [==============================] - 1s 149ms/step - loss: 3.2031e-06 - accuracy: 1.0000 - val_loss: 0.1635 - val_accuracy: 0.9831 - lr: 7.0000e-04\n",
            "Epoch 137/1000\n",
            "5/5 [==============================] - 1s 149ms/step - loss: 3.2188e-06 - accuracy: 1.0000 - val_loss: 0.1639 - val_accuracy: 0.9831 - lr: 7.0000e-04\n",
            "Epoch 138/1000\n",
            "5/5 [==============================] - 1s 150ms/step - loss: 3.1504e-06 - accuracy: 1.0000 - val_loss: 0.1636 - val_accuracy: 0.9831 - lr: 7.0000e-04\n",
            "Epoch 139/1000\n",
            "5/5 [==============================] - 1s 149ms/step - loss: 3.3590e-06 - accuracy: 1.0000 - val_loss: 0.1635 - val_accuracy: 0.9831 - lr: 7.0000e-04\n",
            "Epoch 140/1000\n",
            "5/5 [==============================] - 1s 149ms/step - loss: 3.2910e-06 - accuracy: 1.0000 - val_loss: 0.1612 - val_accuracy: 0.9831 - lr: 7.0000e-04\n",
            "Epoch 141/1000\n",
            "5/5 [==============================] - 1s 150ms/step - loss: 3.1926e-06 - accuracy: 1.0000 - val_loss: 0.1569 - val_accuracy: 0.9831 - lr: 7.0000e-04\n",
            "Epoch 142/1000\n",
            "5/5 [==============================] - 1s 149ms/step - loss: 3.1016e-06 - accuracy: 1.0000 - val_loss: 0.1562 - val_accuracy: 0.9831 - lr: 7.0000e-04\n",
            "Epoch 143/1000\n",
            "5/5 [==============================] - 1s 149ms/step - loss: 3.4037e-06 - accuracy: 1.0000 - val_loss: 0.1564 - val_accuracy: 0.9831 - lr: 7.0000e-04\n",
            "Epoch 144/1000\n",
            "5/5 [==============================] - 1s 148ms/step - loss: 2.9618e-06 - accuracy: 1.0000 - val_loss: 0.1569 - val_accuracy: 0.9831 - lr: 7.0000e-04\n",
            "Epoch 145/1000\n",
            "5/5 [==============================] - 1s 149ms/step - loss: 2.9517e-06 - accuracy: 1.0000 - val_loss: 0.1578 - val_accuracy: 0.9831 - lr: 7.0000e-04\n",
            "Epoch 146/1000\n",
            "5/5 [==============================] - 1s 148ms/step - loss: 2.8192e-06 - accuracy: 1.0000 - val_loss: 0.1579 - val_accuracy: 0.9831 - lr: 7.0000e-04\n",
            "Epoch 147/1000\n",
            "5/5 [==============================] - 1s 149ms/step - loss: 2.6811e-06 - accuracy: 1.0000 - val_loss: 0.1583 - val_accuracy: 0.9831 - lr: 7.0000e-04\n",
            "Epoch 148/1000\n",
            "5/5 [==============================] - 1s 149ms/step - loss: 2.5407e-06 - accuracy: 1.0000 - val_loss: 0.1590 - val_accuracy: 0.9831 - lr: 7.0000e-04\n",
            "Epoch 149/1000\n",
            "5/5 [==============================] - 1s 149ms/step - loss: 2.8584e-06 - accuracy: 1.0000 - val_loss: 0.1603 - val_accuracy: 0.9831 - lr: 7.0000e-04\n",
            "Epoch 150/1000\n",
            "5/5 [==============================] - 1s 149ms/step - loss: 2.3847e-06 - accuracy: 1.0000 - val_loss: 0.1609 - val_accuracy: 0.9831 - lr: 7.0000e-04\n",
            "Epoch 151/1000\n",
            "5/5 [==============================] - 1s 148ms/step - loss: 2.6063e-06 - accuracy: 1.0000 - val_loss: 0.1614 - val_accuracy: 0.9831 - lr: 7.0000e-04\n",
            "Epoch 152/1000\n",
            "5/5 [==============================] - 1s 149ms/step - loss: 2.3756e-06 - accuracy: 1.0000 - val_loss: 0.1624 - val_accuracy: 0.9831 - lr: 7.0000e-04\n",
            "Epoch 153/1000\n",
            "5/5 [==============================] - 1s 149ms/step - loss: 2.3848e-06 - accuracy: 1.0000 - val_loss: 0.1634 - val_accuracy: 0.9831 - lr: 7.0000e-04\n",
            "Epoch 154/1000\n",
            "5/5 [==============================] - 1s 149ms/step - loss: 2.5309e-06 - accuracy: 1.0000 - val_loss: 0.1638 - val_accuracy: 0.9831 - lr: 7.0000e-04\n",
            "Epoch 155/1000\n",
            "5/5 [==============================] - 1s 149ms/step - loss: 2.5493e-06 - accuracy: 1.0000 - val_loss: 0.1641 - val_accuracy: 0.9831 - lr: 7.0000e-04\n",
            "Epoch 156/1000\n",
            "5/5 [==============================] - 1s 149ms/step - loss: 2.4537e-06 - accuracy: 1.0000 - val_loss: 0.1639 - val_accuracy: 0.9831 - lr: 7.0000e-04\n",
            "Epoch 157/1000\n",
            "5/5 [==============================] - 1s 150ms/step - loss: 2.3111e-06 - accuracy: 1.0000 - val_loss: 0.1643 - val_accuracy: 0.9831 - lr: 7.0000e-04\n",
            "Epoch 158/1000\n",
            "5/5 [==============================] - 1s 149ms/step - loss: 2.8193e-06 - accuracy: 1.0000 - val_loss: 0.1656 - val_accuracy: 0.9831 - lr: 7.0000e-04\n",
            "Epoch 159/1000\n",
            "5/5 [==============================] - 1s 150ms/step - loss: 2.0928e-06 - accuracy: 1.0000 - val_loss: 0.1645 - val_accuracy: 0.9831 - lr: 7.0000e-04\n",
            "Epoch 160/1000\n",
            "5/5 [==============================] - 1s 149ms/step - loss: 2.1268e-06 - accuracy: 1.0000 - val_loss: 0.1646 - val_accuracy: 0.9831 - lr: 7.0000e-04\n",
            "Epoch 161/1000\n",
            "5/5 [==============================] - 1s 149ms/step - loss: 2.8304e-06 - accuracy: 1.0000 - val_loss: 0.1778 - val_accuracy: 0.9746 - lr: 7.0000e-04\n",
            "Epoch 162/1000\n",
            "5/5 [==============================] - 1s 149ms/step - loss: 2.2457e-06 - accuracy: 1.0000 - val_loss: 0.2510 - val_accuracy: 0.9576 - lr: 7.0000e-04\n",
            "Epoch 163/1000\n",
            "5/5 [==============================] - 1s 149ms/step - loss: 2.1418e-06 - accuracy: 1.0000 - val_loss: 0.2595 - val_accuracy: 0.9576 - lr: 7.0000e-04\n",
            "Epoch 164/1000\n",
            "5/5 [==============================] - 1s 148ms/step - loss: 3.9581e-06 - accuracy: 1.0000 - val_loss: 0.2205 - val_accuracy: 0.9576 - lr: 7.0000e-04\n",
            "Epoch 165/1000\n",
            "5/5 [==============================] - 1s 150ms/step - loss: 2.1952e-06 - accuracy: 1.0000 - val_loss: 0.1674 - val_accuracy: 0.9831 - lr: 7.0000e-04\n",
            "Epoch 166/1000\n",
            "5/5 [==============================] - 1s 148ms/step - loss: 2.0991e-06 - accuracy: 1.0000 - val_loss: 0.1638 - val_accuracy: 0.9831 - lr: 7.0000e-04\n",
            "Epoch 167/1000\n",
            "5/5 [==============================] - 1s 150ms/step - loss: 2.0687e-06 - accuracy: 1.0000 - val_loss: 0.1630 - val_accuracy: 0.9831 - lr: 7.0000e-04\n",
            "Epoch 168/1000\n",
            "5/5 [==============================] - 1s 149ms/step - loss: 1.9333e-06 - accuracy: 1.0000 - val_loss: 0.1629 - val_accuracy: 0.9831 - lr: 7.0000e-04\n",
            "Epoch 169/1000\n",
            "5/5 [==============================] - 1s 148ms/step - loss: 2.0711e-06 - accuracy: 1.0000 - val_loss: 0.1629 - val_accuracy: 0.9831 - lr: 7.0000e-04\n",
            "Epoch 170/1000\n",
            "5/5 [==============================] - 1s 149ms/step - loss: 1.9756e-06 - accuracy: 1.0000 - val_loss: 0.1632 - val_accuracy: 0.9831 - lr: 7.0000e-04\n",
            "Epoch 171/1000\n",
            "5/5 [==============================] - 1s 149ms/step - loss: 1.9580e-06 - accuracy: 1.0000 - val_loss: 0.1633 - val_accuracy: 0.9831 - lr: 7.0000e-04\n",
            "Epoch 172/1000\n",
            "5/5 [==============================] - 1s 149ms/step - loss: 2.0358e-06 - accuracy: 1.0000 - val_loss: 0.1635 - val_accuracy: 0.9831 - lr: 7.0000e-04\n"
          ]
        }
      ]
    },
    {
      "cell_type": "code",
      "source": [
        "\n",
        "#plot the training and validation accuracy and loss at each epoch\n",
        "loss = history.history['loss']\n",
        "val_loss = history.history['val_loss']\n",
        "epochs = range(1, len(loss) + 1)\n",
        "plt.plot(epochs, loss, 'y', label='Training loss')\n",
        "plt.plot(epochs, val_loss, 'b', label='Validation loss')\n",
        "plt.title('Training and validation loss')\n",
        "plt.xlabel('Epochs')\n",
        "plt.ylabel('Loss')\n",
        "plt.legend()\n",
        "plt.show()\n",
        "\n",
        "acc = history.history['accuracy']\n",
        "val_acc = history.history['val_accuracy']\n",
        "plt.plot(epochs, acc, 'y', label='Training accuracy')\n",
        "plt.plot(epochs, val_acc, 'b', label='Validation accuracy')\n",
        "plt.title('Training and validation accuracy')\n",
        "plt.xlabel('Epochs')\n",
        "plt.ylabel('Accuracy')\n",
        "plt.legend()\n",
        "plt.show()\n"
      ],
      "metadata": {
        "colab": {
          "base_uri": "https://localhost:8080/",
          "height": 573
        },
        "id": "q-k_s3xITMTs",
        "outputId": "89937d1d-88f4-49c9-d4e2-2135d05d7d31"
      },
      "execution_count": 21,
      "outputs": [
        {
          "output_type": "display_data",
          "data": {
            "text/plain": [
              "<Figure size 432x288 with 1 Axes>"
            ],
            "image/png": "[encoded data removed]"
          },
          "metadata": {
            "needs_background": "light"
          }
        },
        {
          "output_type": "display_data",
          "data": {
            "text/plain": [
              "<Figure size 432x288 with 1 Axes>"
            ],
            "image/png": "[encoded data removed]"
          },
          "metadata": {
            "needs_background": "light"
          }
        }
      ]
    },
    {
      "cell_type": "code",
      "source": [
        "#use predict_classes() to find the class with the highest probability\n",
        "import sklearn\n",
        "import seaborn as sns\n",
        "\n",
        "y_pred = resnetModel.predict(X_test)\n",
        "y_pred_readable = encoder.inverse_transform(y_pred)\n",
        "y_test_readable = encoder.inverse_transform(y_test)\n",
        "\n",
        "print(\"Performance Summary of Sequential Neural Network on test data:\")\n",
        "#show classification report\n",
        "print(sklearn.metrics.classification_report(y_test_readable, y_pred_readable))\n",
        "#show confusion matrix\n",
        "print(\"The Confusion Matrix is : \")\n",
        "print(sns.heatmap(sklearn.metrics.confusion_matrix(y_test_readable, y_pred_readable), cmap='viridis', \n",
        "                  annot=True, xticklabels=True, yticklabels=True))\n",
        "\n"
      ],
      "metadata": {
        "colab": {
          "base_uri": "https://localhost:8080/",
          "height": 521
        },
        "id": "byrJNuuLUFGc",
        "outputId": "f5eed201-3d56-484e-93da-2ded1a7f46be"
      },
      "execution_count": 25,
      "outputs": [
        {
          "output_type": "stream",
          "name": "stdout",
          "text": [
            "Performance Summary of Sequential Neural Network on test data:\n",
            "              precision    recall  f1-score   support\n",
            "\n",
            "      Closed       0.97      1.00      0.99        33\n",
            "        Open       1.00      0.92      0.96        26\n",
            "     no_yawn       0.94      0.97      0.95        32\n",
            "        yawn       0.94      0.94      0.94        33\n",
            "\n",
            "    accuracy                           0.96       124\n",
            "   macro avg       0.96      0.96      0.96       124\n",
            "weighted avg       0.96      0.96      0.96       124\n",
            "\n",
            "The Confusion Matrix is : \n",
            "AxesSubplot(0.125,0.125;0.62x0.755)\n"
          ]
        },
        {
          "output_type": "display_data",
          "data": {
            "text/plain": [
              "<Figure size 432x288 with 2 Axes>"
            ],
            "image/png": "[encoded data removed]"
          },
          "metadata": {
            "needs_background": "light"
          }
        }
      ]
    },
    {
      "cell_type": "code",
      "source": [
        "resnetModel.save(\"cnnCat3.h5\")"
      ],
      "metadata": {
        "id": "6k8FG3DlUeqE"
      },
      "execution_count": 26,
      "outputs": []
    },
    {
      "cell_type": "code",
      "source": [
        "\n",
        "def ResNetModelInference(model_path, image_path, resizeDim=(64, 64), \n",
        "                         dataType=\"float32\", plotImage=False) :\n",
        "    import warnings\n",
        "    warnings.filterwarnings(\"ignore\")\n",
        "    \n",
        "    model = tf.keras.models.load_model(model_path, compile=False)\n",
        "    testImage = cv2.resize(cv2.cvtColor(cv2.imread(image_path, 1), cv2.COLOR_BGR2GRAY), resizeDim)\n",
        "    \n",
        "    if plotImage :\n",
        "        plt.imshow(testImage)\n",
        "\n",
        "    reshapedImage = testImage.reshape(-1, resizeDim[0], resizeDim[1], 1).astype(dataType)\n",
        "    predictionResNet = np.argmax(model.predict(reshapedImage), axis=1)\n",
        "    if predictionResNet[0] == 0 :\n",
        "        print(\"Closed Eyes....\")\n",
        "        return \n",
        "    elif predictionResNet[0] == 1 :\n",
        "        print(\"Open Eyes....\")\n",
        "        return \n",
        "    elif predictionResNet[0] == 2 :\n",
        "        print(\"No Yawning Present....\")\n",
        "        return\n",
        "    else :\n",
        "        print(\"Yawning Present....\")\n",
        "        return"
      ],
      "metadata": {
        "id": "pV169eKaVriF"
      },
      "execution_count": 74,
      "outputs": []
    },
    {
      "cell_type": "code",
      "source": [
        "MODEL = \"/content/cnnCat3.h5\"\n",
        "\n",
        "IMAGE_1 = \"/content/_14.jpg\"\n",
        "IMAGE_2 = \"/content/2607.jpg\"\n",
        "IMAGE_3 = \"/content/95.jpg\"\n",
        "IMAGE_4 = \"/content/_46.jpg\"\n"
      ],
      "metadata": {
        "id": "AUk-4gLEZ_CD"
      },
      "execution_count": 77,
      "outputs": []
    },
    {
      "cell_type": "code",
      "source": [
        "ResNetModelInference(MODEL, IMAGE_1, plotImage=True)"
      ],
      "metadata": {
        "colab": {
          "base_uri": "https://localhost:8080/",
          "height": 286
        },
        "id": "x_-kMxB0cyL1",
        "outputId": "df58734d-e077-49b2-d6bb-c92b1871d39a"
      },
      "execution_count": 78,
      "outputs": [
        {
          "output_type": "stream",
          "name": "stdout",
          "text": [
            "Closed Eyes....\n"
          ]
        },
        {
          "output_type": "display_data",
          "data": {
            "text/plain": [
              "<Figure size 432x288 with 1 Axes>"
            ],
            "image/png": "[encoded data removed]"
          },
          "metadata": {
            "needs_background": "light"
          }
        }
      ]
    },
    {
      "cell_type": "code",
      "source": [
        "ResNetModelInference(MODEL, IMAGE_2, plotImage=True)"
      ],
      "metadata": {
        "colab": {
          "base_uri": "https://localhost:8080/",
          "height": 286
        },
        "id": "wsL6dvjvd4Nj",
        "outputId": "d65d41bc-bf21-4d38-b51c-488d078fe917"
      },
      "execution_count": 79,
      "outputs": [
        {
          "output_type": "stream",
          "name": "stdout",
          "text": [
            "No Yawning Present....\n"
          ]
        },
        {
          "output_type": "display_data",
          "data": {
            "text/plain": [
              "<Figure size 432x288 with 1 Axes>"
            ],
            "image/png": "[encoded data removed]"
          },
          "metadata": {
            "needs_background": "light"
          }
        }
      ]
    },
    {
      "cell_type": "code",
      "source": [
        "ResNetModelInference(MODEL, IMAGE_3, plotImage=True)"
      ],
      "metadata": {
        "colab": {
          "base_uri": "https://localhost:8080/",
          "height": 286
        },
        "id": "YzDGe3tEd6fb",
        "outputId": "fed7e552-7f9a-48e8-e5a7-0c81cd1924e6"
      },
      "execution_count": 80,
      "outputs": [
        {
          "output_type": "stream",
          "name": "stdout",
          "text": [
            "Yawning Present....\n"
          ]
        },
        {
          "output_type": "display_data",
          "data": {
            "text/plain": [
              "<Figure size 432x288 with 1 Axes>"
            ],
            "image/png": "[encoded data removed]"
          },
          "metadata": {
            "needs_background": "light"
          }
        }
      ]
    },
    {
      "cell_type": "code",
      "source": [
        "ResNetModelInference(MODEL, IMAGE_4, plotImage=True)"
      ],
      "metadata": {
        "colab": {
          "base_uri": "https://localhost:8080/",
          "height": 286
        },
        "id": "2NUIRNk-eCLs",
        "outputId": "ef870f71-5ad9-47ad-f439-d885862b1ed5"
      },
      "execution_count": 81,
      "outputs": [
        {
          "output_type": "stream",
          "name": "stdout",
          "text": [
            "Open Eyes....\n"
          ]
        },
        {
          "output_type": "display_data",
          "data": {
            "text/plain": [
              "<Figure size 432x288 with 1 Axes>"
            ],
            "image/png": "[encoded data removed]"
          },
          "metadata": {
            "needs_background": "light"
          }
        }
      ]
    },
    {
      "cell_type": "code",
      "source": [
        ""
      ],
      "metadata": {
        "id": "U7uYkuYTegoL"
      },
      "execution_count": null,
      "outputs": []
    }
  ]
}